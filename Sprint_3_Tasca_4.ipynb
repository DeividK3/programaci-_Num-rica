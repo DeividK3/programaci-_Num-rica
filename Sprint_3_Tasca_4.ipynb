{
 "cells": [
  {
   "cell_type": "markdown",
   "metadata": {},
   "source": [
    "# Tasca 4: Pràctica amb programació numèrica"
   ]
  },
  {
   "cell_type": "code",
   "execution_count": 18,
   "metadata": {},
   "outputs": [],
   "source": [
    "import numpy as np \n",
    "from numpy import random as rnd"
   ]
  },
  {
   "cell_type": "markdown",
   "metadata": {},
   "source": [
    "## Exercici 1\n",
    "__Crea una funció que donat un Array d’una dimensió, et faci un resum estadístic bàsic de les dades. Si detecta que l’array té més d’una dimensió, ha de mostrar un missatge d’error.__"
   ]
  },
  {
   "cell_type": "code",
   "execution_count": 19,
   "metadata": {
    "scrolled": true
   },
   "outputs": [
    {
     "name": "stdout",
     "output_type": "stream",
     "text": [
      "La longitut de l'array és de 5 elements\n",
      "El màxim de l'array és 5\n",
      "El mínim de l'array és 1\n",
      "La mitjana aritmètica de l'array és 3.00\n",
      "La desviació estàndar de l'array és 1.41\n",
      "Error: l'input ha de ser un Array d'una dimensió\n",
      "Error: l'input no és un Array\n"
     ]
    }
   ],
   "source": [
    "def est_array_1d(array):\n",
    "    try:\n",
    "        if array.ndim > 1:\n",
    "            print(\"Error: l'input ha de ser un Array d'una dimensió\")\n",
    "        else:\n",
    "            print(\"La longitut de l'array és de {} elements\".format(len(array)))\n",
    "            print(\"El màxim de l'array és {}\".format(array.max()))\n",
    "            print(\"El mínim de l'array és {}\".format(array.min()))\n",
    "            print(\"La mitjana aritmètica de l'array és {:.2f}\".format(array.mean()))\n",
    "            print(\"La desviació estàndar de l'array és {:.2f}\".format(np.std(array)))\n",
    "    except  AttributeError:\n",
    "        print(\"Error: l'input no és un Array\")\n",
    "        \n",
    "est_array_1d(np.array([1,2,3,4,5]))\n",
    "est_array_1d(np.array([(1,2,3,4,5),(1,2,3,4,5)]))\n",
    "est_array_1d('hola')"
   ]
  },
  {
   "cell_type": "markdown",
   "metadata": {},
   "source": [
    "## Exercici 2\n",
    "__Crea una funció que et generi un quadrat NxN de nombres aleatoris entre el 0 i el 100.__"
   ]
  },
  {
   "cell_type": "code",
   "execution_count": 85,
   "metadata": {},
   "outputs": [
    {
     "name": "stdout",
     "output_type": "stream",
     "text": [
      "[[47]]\n",
      "[[47 83]\n",
      " [38 53]]\n",
      "[[47 83 38]\n",
      " [53 76 24]\n",
      " [15 49 23]]\n",
      "[[47 83 38 53]\n",
      " [76 24 15 49]\n",
      " [23 26 30 43]\n",
      " [30 26 58 92]]\n",
      "Error: l'input ha de ser un nombre natural\n",
      "None\n"
     ]
    }
   ],
   "source": [
    "def quadrat_n(num):\n",
    "    try:\n",
    "        rnd.seed(1234)\n",
    "        array_f = rnd.randint(100,size=(num,num))\n",
    "        return array_f\n",
    "    except TypeError:\n",
    "        print(\"Error: l'input ha de ser un nombre natural\")\n",
    "\n",
    "print(quadrat_n(1))\n",
    "print(quadrat_n(2))\n",
    "print(quadrat_n(3))\n",
    "print(quadrat_n(4))\n",
    "print(quadrat_n('gola'))"
   ]
  },
  {
   "cell_type": "markdown",
   "metadata": {},
   "source": [
    "## Exercici 3\n",
    "__Crea una funció que donada una taula de dues dimensions, et calculi els totals per fila i els totals per columna.__"
   ]
  },
  {
   "cell_type": "code",
   "execution_count": 57,
   "metadata": {},
   "outputs": [
    {
     "name": "stdout",
     "output_type": "stream",
     "text": [
      "Els totals per fila són: [7 2]\n",
      "Els totals per columna són: [4 5]\n",
      "Error: l'array no és de dues dimensions\n",
      "L'input no és un array\n"
     ]
    }
   ],
   "source": [
    "def sum_fil_col_2d(array):\n",
    "    try:\n",
    "        if array.ndim == 2:\n",
    "            print\n",
    "            print(\"Els totals per fila són: {}\".format(np.sum(a,axis=1)))\n",
    "            print(\"Els totals per columna són: {}\".format(np.sum(a,axis=0)))\n",
    "        else:\n",
    "            print(\"Error: l'array no és de dues dimensions\")\n",
    "    except AttributeError:\n",
    "        print(\"L'input no és un array\")\n",
    "\n",
    "sum_fil_col_2d(np.array([(3,4),(1,1)]))\n",
    "sum_fil_col_2d(np.array([(3,4),(1,1)],ndmin=3))\n",
    "sum_fil_col_2d(3)"
   ]
  },
  {
   "cell_type": "markdown",
   "metadata": {},
   "source": [
    "## Exercici 4\n",
    "__Implementa manualment una funció que calculi el coeficient de correlació. Informa’t-en sobre els seus usos i interpretació.__"
   ]
  },
  {
   "cell_type": "code",
   "execution_count": 97,
   "metadata": {},
   "outputs": [
    {
     "name": "stdout",
     "output_type": "stream",
     "text": [
      "El coeficient de correlació entre els dos arrays és de -0.8660\n",
      "[[ 1.        -0.8660254]\n",
      " [-0.8660254  1.       ]]\n"
     ]
    }
   ],
   "source": [
    "def coef_corr_2a(array1,array2):\n",
    "    try:\n",
    "        if len(array1) == len(array2):\n",
    "            l = len(array1)\n",
    "            sumx=array1.sum()\n",
    "            sumy=array2.sum()\n",
    "            x2=array1**2\n",
    "            y2=array2**2\n",
    "            sumx2=x2.sum()\n",
    "            sumy2=y2.sum()\n",
    "            xy=array1*array2\n",
    "            sumxy=xy.sum()\n",
    "            coef = (l*sumxy-sumx*sumy)/(np.sqrt(l*sumx2 - sumx**2)*np.sqrt(l*sumy2 - sumy**2))\n",
    "            print(\"El coeficient de correlació entre els dos arrays és de {:.4f}\".format(coef))\n",
    "        else:\n",
    "            print(\"Error: els arrays no tenen la mateixa mida\")\n",
    "    except AttributeError:\n",
    "        print(\"Error: algun input no és un array\")\n",
    "\n",
    "coef_corr_2a(np.array([3,4,2]),np.array([1,1,2]))\n",
    "\n",
    "# Es comprova que s'ha calculat bé amb la una funció de numpy\n",
    "print(np.corrcoef(np.array([3,4,2]),np.array([1,1,2])))"
   ]
  }
 ],
 "metadata": {
  "kernelspec": {
   "display_name": "Python 3",
   "language": "python",
   "name": "python3"
  },
  "language_info": {
   "codemirror_mode": {
    "name": "ipython",
    "version": 3
   },
   "file_extension": ".py",
   "mimetype": "text/x-python",
   "name": "python",
   "nbconvert_exporter": "python",
   "pygments_lexer": "ipython3",
   "version": "3.8.5"
  }
 },
 "nbformat": 4,
 "nbformat_minor": 4
}
